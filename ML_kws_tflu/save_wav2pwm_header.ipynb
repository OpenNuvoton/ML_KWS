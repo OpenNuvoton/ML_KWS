{
 "cells": [
  {
   "cell_type": "code",
   "execution_count": 1,
   "id": "faec2c78-9261-41c3-a8ed-79668d4c7c7c",
   "metadata": {},
   "outputs": [],
   "source": [
    "\"\"\"\n",
    "Usage:\n",
    "    This script is intended to be used for processing audio files in WAV format and save to C++ header file.\n",
    "\"\"\"\n",
    "import os\n",
    "from scipy.io.wavfile import read"
   ]
  },
  {
   "cell_type": "code",
   "execution_count": 2,
   "id": "752704de-74ea-4c22-b91f-bfbb68efc6a3",
   "metadata": {},
   "outputs": [],
   "source": [
    "class AUDIOFILEP:  # father class\n",
    "    \"\"\"\n",
    "    A class to handle audio file processing and conversion to a specific format.\n",
    "    Attributes:\n",
    "    -----------\n",
    "    folder : str\n",
    "        The folder where the audio file is located.\n",
    "    filename : str\n",
    "        The name of the audio file.\n",
    "    filepath : str\n",
    "        The full path to the audio file.\n",
    "    out : str\n",
    "        The output file path.\n",
    "    rate : int\n",
    "        The sample rate of the audio file.\n",
    "    data : numpy.ndarray\n",
    "        The audio data.\n",
    "    \"\"\"\n",
    "    def __init__(self, folder, filename, output):\n",
    "        self.folder = folder\n",
    "        self.filename = filename\n",
    "        self.filepath = os.path.join(folder, filename)\n",
    "        self.out = output\n",
    "        self.rate, self.data = read(self.filepath)\n",
    "\n",
    "        print(f\"Sample rate: {self.rate} Hz\")\n",
    "        print(f\"Data type: {self.data.dtype}\")\n",
    "        print(len(self.data))\n",
    "\n",
    "    def create_tag_folder(self, tag_name):\n",
    "        \"\"\"\n",
    "        Creates a folder with the specified tag name in the current working directory.\n",
    "        \"\"\"\n",
    "        dir_path = os.path.join(os.getcwd(), tag_name)\n",
    "        try:\n",
    "            os.mkdir(dir_path)\n",
    "        except OSError as error:\n",
    "            print(error)\n",
    "            print(\"skip create\")\n",
    "\n",
    "        print(os.getcwd())\n",
    "\n",
    "    def main(self):\n",
    "        \"\"\"\n",
    "        Main function to write wave data to a specified output file.\n",
    "        This function opens the output file in write mode and writes the initial\n",
    "        wave data definition. It then calls a helper function to write the \n",
    "        TensorFlow Lite data to the file.\n",
    "        \"\"\"\n",
    "        with open(self.out, \"w\", encoding=\"utf-8\") as f:\n",
    "            f.write(\"#define WAVE_DATA {\")\n",
    "            self._write_tflite_data(f)\n",
    "\n",
    "    def _write_tflite_data(self, open_file):\n",
    "        \"\"\"\n",
    "        Writes TensorFlow Lite data to a specified file.\n",
    "        Args:\n",
    "            open_file (file object): The file object to write the data to.\n",
    "        Returns:\n",
    "            None\n",
    "        \"\"\"\n",
    "\n",
    "        line = \"\"\n",
    "        for _, v in enumerate(self.data):\n",
    "            line = line + str(v) + \",\"\n",
    "        line = line + \"}\\n\"\n",
    "        open_file.write(line)"
   ]
  },
  {
   "cell_type": "code",
   "execution_count": 3,
   "id": "6f6b0c69-564b-4733-9d37-baaeee828c3b",
   "metadata": {},
   "outputs": [
    {
     "name": "stdout",
     "output_type": "stream",
     "text": [
      "Sample rate: 16000 Hz\n",
      "Data type: int16\n",
      "16000\n"
     ]
    }
   ],
   "source": [
    "DATASET_PATH = \"tmp/speech_dataset/one\"\n",
    "WAVER_FILE = \"00f0204f_nohash_0.wav\"\n",
    "OUTPUT_FILE = \"one_1_test.h\"  # output file path, you can change it to your own testing firmware path\n",
    "\n",
    "x = AUDIOFILEP(DATASET_PATH, WAVER_FILE, OUTPUT_FILE)\n",
    "x.main()"
   ]
  },
  {
   "cell_type": "code",
   "execution_count": null,
   "id": "91f45153-df23-4ddf-b4ef-05ac0abc25ed",
   "metadata": {},
   "outputs": [],
   "source": []
  }
 ],
 "metadata": {
  "kernelspec": {
   "display_name": "NuEdgeWise_env",
   "language": "python",
   "name": "python3"
  },
  "language_info": {
   "codemirror_mode": {
    "name": "ipython",
    "version": 3
   },
   "file_extension": ".py",
   "mimetype": "text/x-python",
   "name": "python",
   "nbconvert_exporter": "python",
   "pygments_lexer": "ipython3",
   "version": "3.9.13"
  }
 },
 "nbformat": 4,
 "nbformat_minor": 5
}
